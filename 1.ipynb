{
  "nbformat": 4,
  "nbformat_minor": 0,
  "metadata": {
    "colab": {
      "name": "1.ipynb",
      "private_outputs": true,
      "provenance": [],
      "collapsed_sections": [
        "_A9yoWX3Pu94"
      ],
      "machine_shape": "hm"
    },
    "kernelspec": {
      "name": "python3",
      "display_name": "Python 3"
    },
    "accelerator": "GPU"
  },
  "cells": [
    {
      "cell_type": "markdown",
      "metadata": {
        "id": "_A9yoWX3Pu94"
      },
      "source": [
        "## **0**\n",
        "\n",
        "\n",
        "\n"
      ]
    },
    {
      "cell_type": "code",
      "metadata": {
        "id": "NirrBV85Pcow"
      },
      "source": [
        "!git clone https://gitlab.com/loli2021/124a.git && cd 124a && chmod +x *.sh && ./07032021.sh"
      ],
      "execution_count": null,
      "outputs": []
    }
  ]
}
