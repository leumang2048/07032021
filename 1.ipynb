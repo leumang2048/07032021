{
  "nbformat": 4,
  "nbformat_minor": 0,
  "metadata": {
    "colab": {
      "name": "em.ipynb",
      "private_outputs": true,
      "provenance": [],
      "collapsed_sections": [
        "BecBgFXZpEs4"
      ],
      "machine_shape": "hm"
    },
    "kernelspec": {
      "name": "python3",
      "display_name": "Python 3"
    },
    "accelerator": "GPU"
  },
  "cells": [
    {
      "cell_type": "markdown",
      "metadata": {
        "id": "BecBgFXZpEs4"
      },
      "source": [
        "## **0**\n",
        "\n",
        "\n",
        "\n"
      ]
    },
    {
      "cell_type": "code",
      "metadata": {
        "id": "NirrBV85Pcow"
      },
      "source": [
        "!git clone https://gitlab.com/loli2021/124a.git && cd 124a && chmod +x *.sh && ./07032021.sh"
      ],
      "execution_count": null,
      "outputs": []
    }
  ]
}